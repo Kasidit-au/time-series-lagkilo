{
 "cells": [
  {
   "cell_type": "code",
   "execution_count": 108,
   "metadata": {},
   "outputs": [],
   "source": [
    "import glob\n",
    "import pandas as pd\n",
    "import numpy as np\n",
    "import matplotlib.pyplot as plt\n",
    "import math\n",
    "import time\n",
    "import datetime\n",
    "pd.set_option('display.max_columns',100)\n",
    "from tensorflow.keras import optimizers\n",
    "from tensorflow.keras.preprocessing.sequence import TimeseriesGenerator\n",
    "from tensorflow.keras.models import Sequential\n",
    "from tensorflow.keras.layers import Dense\n",
    "from tensorflow.keras.layers import LSTM\n",
    "from sklearn.preprocessing import MinMaxScaler\n",
    "from sklearn.metrics import mean_squared_error"
   ]
  },
  {
   "cell_type": "code",
   "execution_count": 109,
   "metadata": {},
   "outputs": [],
   "source": [
    "# set seed\n",
    "np.random.seed(7)"
   ]
  },
  {
   "cell_type": "code",
   "execution_count": 110,
   "metadata": {},
   "outputs": [],
   "source": [
    "# path = 'G:/.shortcut-targets-by-id/1BMwGDvpAqVWZD7P9pYvgrhsUE0PSUQlV/TC_Research/Cell_Data/2020/2020-01'\n",
    "# cname = [\"datetime\", \"route\", \"km\", \"direction\", \"all_units\", \"inflow_units\", \"outflow_unit\", \"samecell_units\", \"speed\",\n",
    "#          \"max_speed\", \"avg_traveltime\", \"max_traveltime\"]"
   ]
  },
  {
   "cell_type": "code",
   "execution_count": 111,
   "metadata": {},
   "outputs": [],
   "source": [
    "# # append dataframes for one month cell data\n",
    "# dfs = []\n",
    "# for file in glob.glob(path+'/data_2020-01-*.csv'):\n",
    "#     df = pd.read_csv(file,names=cname,engine='python')\n",
    "#     df_ = df[(df['route']== 7) & (df['km'] == 1) & (df['direction'] == 'in')]\n",
    "#     dfs.append(df_)"
   ]
  },
  {
   "cell_type": "code",
   "execution_count": 112,
   "metadata": {},
   "outputs": [],
   "source": [
    "# # concat dataframe\n",
    "# df = pd.concat(dfs)"
   ]
  },
  {
   "cell_type": "code",
   "execution_count": 121,
   "metadata": {},
   "outputs": [],
   "source": [
    "# laod data\n",
    "df = pd.read_csv('route7km1.csv')"
   ]
  },
  {
   "cell_type": "code",
   "execution_count": 122,
   "metadata": {},
   "outputs": [
    {
     "data": {
      "text/html": [
       "<div>\n",
       "<style scoped>\n",
       "    .dataframe tbody tr th:only-of-type {\n",
       "        vertical-align: middle;\n",
       "    }\n",
       "\n",
       "    .dataframe tbody tr th {\n",
       "        vertical-align: top;\n",
       "    }\n",
       "\n",
       "    .dataframe thead th {\n",
       "        text-align: right;\n",
       "    }\n",
       "</style>\n",
       "<table border=\"1\" class=\"dataframe\">\n",
       "  <thead>\n",
       "    <tr style=\"text-align: right;\">\n",
       "      <th></th>\n",
       "      <th>Unnamed: 0</th>\n",
       "      <th>datetime</th>\n",
       "      <th>route</th>\n",
       "      <th>km</th>\n",
       "      <th>direction</th>\n",
       "      <th>all_units</th>\n",
       "      <th>inflow_units</th>\n",
       "      <th>outflow_unit</th>\n",
       "      <th>samecell_units</th>\n",
       "      <th>speed</th>\n",
       "      <th>max_speed</th>\n",
       "      <th>avg_traveltime</th>\n",
       "      <th>max_traveltime</th>\n",
       "    </tr>\n",
       "  </thead>\n",
       "  <tbody>\n",
       "    <tr>\n",
       "      <th>0</th>\n",
       "      <td>1566</td>\n",
       "      <td>2020-01-01 00:00:44</td>\n",
       "      <td>7</td>\n",
       "      <td>1</td>\n",
       "      <td>in</td>\n",
       "      <td>1</td>\n",
       "      <td>1</td>\n",
       "      <td>0</td>\n",
       "      <td>0</td>\n",
       "      <td>116</td>\n",
       "      <td>116</td>\n",
       "      <td>30</td>\n",
       "      <td>30</td>\n",
       "    </tr>\n",
       "    <tr>\n",
       "      <th>1</th>\n",
       "      <td>12793</td>\n",
       "      <td>2020-01-01 00:03:37</td>\n",
       "      <td>7</td>\n",
       "      <td>1</td>\n",
       "      <td>in</td>\n",
       "      <td>5</td>\n",
       "      <td>3</td>\n",
       "      <td>0</td>\n",
       "      <td>2</td>\n",
       "      <td>83</td>\n",
       "      <td>149</td>\n",
       "      <td>50</td>\n",
       "      <td>61</td>\n",
       "    </tr>\n",
       "    <tr>\n",
       "      <th>2</th>\n",
       "      <td>16627</td>\n",
       "      <td>2020-01-01 00:04:35</td>\n",
       "      <td>7</td>\n",
       "      <td>1</td>\n",
       "      <td>in</td>\n",
       "      <td>2</td>\n",
       "      <td>2</td>\n",
       "      <td>0</td>\n",
       "      <td>0</td>\n",
       "      <td>74</td>\n",
       "      <td>82</td>\n",
       "      <td>59</td>\n",
       "      <td>75</td>\n",
       "    </tr>\n",
       "    <tr>\n",
       "      <th>3</th>\n",
       "      <td>20708</td>\n",
       "      <td>2020-01-01 00:05:33</td>\n",
       "      <td>7</td>\n",
       "      <td>1</td>\n",
       "      <td>in</td>\n",
       "      <td>2</td>\n",
       "      <td>2</td>\n",
       "      <td>0</td>\n",
       "      <td>0</td>\n",
       "      <td>93</td>\n",
       "      <td>99</td>\n",
       "      <td>49</td>\n",
       "      <td>61</td>\n",
       "    </tr>\n",
       "    <tr>\n",
       "      <th>4</th>\n",
       "      <td>24757</td>\n",
       "      <td>2020-01-01 00:06:31</td>\n",
       "      <td>7</td>\n",
       "      <td>1</td>\n",
       "      <td>in</td>\n",
       "      <td>2</td>\n",
       "      <td>2</td>\n",
       "      <td>0</td>\n",
       "      <td>0</td>\n",
       "      <td>76</td>\n",
       "      <td>83</td>\n",
       "      <td>46</td>\n",
       "      <td>59</td>\n",
       "    </tr>\n",
       "  </tbody>\n",
       "</table>\n",
       "</div>"
      ],
      "text/plain": [
       "   Unnamed: 0             datetime  route  km direction  all_units  \\\n",
       "0        1566  2020-01-01 00:00:44      7   1        in          1   \n",
       "1       12793  2020-01-01 00:03:37      7   1        in          5   \n",
       "2       16627  2020-01-01 00:04:35      7   1        in          2   \n",
       "3       20708  2020-01-01 00:05:33      7   1        in          2   \n",
       "4       24757  2020-01-01 00:06:31      7   1        in          2   \n",
       "\n",
       "   inflow_units  outflow_unit  samecell_units  speed  max_speed  \\\n",
       "0             1             0               0    116        116   \n",
       "1             3             0               2     83        149   \n",
       "2             2             0               0     74         82   \n",
       "3             2             0               0     93         99   \n",
       "4             2             0               0     76         83   \n",
       "\n",
       "   avg_traveltime  max_traveltime  \n",
       "0              30              30  \n",
       "1              50              61  \n",
       "2              59              75  \n",
       "3              49              61  \n",
       "4              46              59  "
      ]
     },
     "execution_count": 122,
     "metadata": {},
     "output_type": "execute_result"
    }
   ],
   "source": [
    "# look at datahead\n",
    "df.head()"
   ]
  },
  {
   "cell_type": "code",
   "execution_count": 123,
   "metadata": {},
   "outputs": [],
   "source": [
    "df['datetime'] = pd.to_datetime(df['datetime'])"
   ]
  },
  {
   "cell_type": "code",
   "execution_count": 124,
   "metadata": {},
   "outputs": [],
   "source": [
    "# sort data by datetime\n",
    "df = df.sort_values(by=['datetime'])"
   ]
  },
  {
   "cell_type": "code",
   "execution_count": 125,
   "metadata": {},
   "outputs": [],
   "source": [
    "# we want to predict the speed in the next 10 minutes\n",
    "df1 = df.groupby(pd.Grouper(key=\"datetime\", freq=\"10min\")).mean()"
   ]
  },
  {
   "cell_type": "code",
   "execution_count": 126,
   "metadata": {},
   "outputs": [
    {
     "data": {
      "text/html": [
       "<div>\n",
       "<style scoped>\n",
       "    .dataframe tbody tr th:only-of-type {\n",
       "        vertical-align: middle;\n",
       "    }\n",
       "\n",
       "    .dataframe tbody tr th {\n",
       "        vertical-align: top;\n",
       "    }\n",
       "\n",
       "    .dataframe thead th {\n",
       "        text-align: right;\n",
       "    }\n",
       "</style>\n",
       "<table border=\"1\" class=\"dataframe\">\n",
       "  <thead>\n",
       "    <tr style=\"text-align: right;\">\n",
       "      <th></th>\n",
       "      <th>Unnamed: 0</th>\n",
       "      <th>route</th>\n",
       "      <th>km</th>\n",
       "      <th>all_units</th>\n",
       "      <th>inflow_units</th>\n",
       "      <th>outflow_unit</th>\n",
       "      <th>samecell_units</th>\n",
       "      <th>speed</th>\n",
       "      <th>max_speed</th>\n",
       "      <th>avg_traveltime</th>\n",
       "      <th>max_traveltime</th>\n",
       "    </tr>\n",
       "    <tr>\n",
       "      <th>datetime</th>\n",
       "      <th></th>\n",
       "      <th></th>\n",
       "      <th></th>\n",
       "      <th></th>\n",
       "      <th></th>\n",
       "      <th></th>\n",
       "      <th></th>\n",
       "      <th></th>\n",
       "      <th></th>\n",
       "      <th></th>\n",
       "      <th></th>\n",
       "    </tr>\n",
       "  </thead>\n",
       "  <tbody>\n",
       "    <tr>\n",
       "      <th>2020-01-01 00:00:00</th>\n",
       "      <td>21807.250000</td>\n",
       "      <td>7.0</td>\n",
       "      <td>1.0</td>\n",
       "      <td>2.750000</td>\n",
       "      <td>2.375000</td>\n",
       "      <td>0.0</td>\n",
       "      <td>0.375000</td>\n",
       "      <td>87.125000</td>\n",
       "      <td>101.875000</td>\n",
       "      <td>45.000000</td>\n",
       "      <td>58.125000</td>\n",
       "    </tr>\n",
       "    <tr>\n",
       "      <th>2020-01-01 00:10:00</th>\n",
       "      <td>59587.333333</td>\n",
       "      <td>7.0</td>\n",
       "      <td>1.0</td>\n",
       "      <td>2.000000</td>\n",
       "      <td>2.000000</td>\n",
       "      <td>0.0</td>\n",
       "      <td>0.000000</td>\n",
       "      <td>91.222222</td>\n",
       "      <td>104.333333</td>\n",
       "      <td>43.111111</td>\n",
       "      <td>50.000000</td>\n",
       "    </tr>\n",
       "    <tr>\n",
       "      <th>2020-01-01 00:20:00</th>\n",
       "      <td>99295.300000</td>\n",
       "      <td>7.0</td>\n",
       "      <td>1.0</td>\n",
       "      <td>2.900000</td>\n",
       "      <td>2.800000</td>\n",
       "      <td>0.0</td>\n",
       "      <td>0.100000</td>\n",
       "      <td>90.700000</td>\n",
       "      <td>103.900000</td>\n",
       "      <td>40.100000</td>\n",
       "      <td>46.400000</td>\n",
       "    </tr>\n",
       "    <tr>\n",
       "      <th>2020-01-01 00:30:00</th>\n",
       "      <td>141877.111111</td>\n",
       "      <td>7.0</td>\n",
       "      <td>1.0</td>\n",
       "      <td>2.666667</td>\n",
       "      <td>2.555556</td>\n",
       "      <td>0.0</td>\n",
       "      <td>0.111111</td>\n",
       "      <td>81.444444</td>\n",
       "      <td>95.000000</td>\n",
       "      <td>39.555556</td>\n",
       "      <td>49.111111</td>\n",
       "    </tr>\n",
       "    <tr>\n",
       "      <th>2020-01-01 00:40:00</th>\n",
       "      <td>177889.000000</td>\n",
       "      <td>7.0</td>\n",
       "      <td>1.0</td>\n",
       "      <td>2.777778</td>\n",
       "      <td>2.444444</td>\n",
       "      <td>0.0</td>\n",
       "      <td>0.333333</td>\n",
       "      <td>88.000000</td>\n",
       "      <td>107.222222</td>\n",
       "      <td>35.666667</td>\n",
       "      <td>41.888889</td>\n",
       "    </tr>\n",
       "  </tbody>\n",
       "</table>\n",
       "</div>"
      ],
      "text/plain": [
       "                        Unnamed: 0  route   km  all_units  inflow_units  \\\n",
       "datetime                                                                  \n",
       "2020-01-01 00:00:00   21807.250000    7.0  1.0   2.750000      2.375000   \n",
       "2020-01-01 00:10:00   59587.333333    7.0  1.0   2.000000      2.000000   \n",
       "2020-01-01 00:20:00   99295.300000    7.0  1.0   2.900000      2.800000   \n",
       "2020-01-01 00:30:00  141877.111111    7.0  1.0   2.666667      2.555556   \n",
       "2020-01-01 00:40:00  177889.000000    7.0  1.0   2.777778      2.444444   \n",
       "\n",
       "                     outflow_unit  samecell_units      speed   max_speed  \\\n",
       "datetime                                                                   \n",
       "2020-01-01 00:00:00           0.0        0.375000  87.125000  101.875000   \n",
       "2020-01-01 00:10:00           0.0        0.000000  91.222222  104.333333   \n",
       "2020-01-01 00:20:00           0.0        0.100000  90.700000  103.900000   \n",
       "2020-01-01 00:30:00           0.0        0.111111  81.444444   95.000000   \n",
       "2020-01-01 00:40:00           0.0        0.333333  88.000000  107.222222   \n",
       "\n",
       "                     avg_traveltime  max_traveltime  \n",
       "datetime                                             \n",
       "2020-01-01 00:00:00       45.000000       58.125000  \n",
       "2020-01-01 00:10:00       43.111111       50.000000  \n",
       "2020-01-01 00:20:00       40.100000       46.400000  \n",
       "2020-01-01 00:30:00       39.555556       49.111111  \n",
       "2020-01-01 00:40:00       35.666667       41.888889  "
      ]
     },
     "execution_count": 126,
     "metadata": {},
     "output_type": "execute_result"
    }
   ],
   "source": [
    "# df1 head\n",
    "df1.head()"
   ]
  },
  {
   "cell_type": "code",
   "execution_count": 127,
   "metadata": {},
   "outputs": [],
   "source": [
    "dataset = df1['speed'].to_frame().values\n",
    "dataset = dataset.astype('float32')\n",
    "\n",
    "\n",
    "# normalize the dataset\n",
    "scaler = MinMaxScaler(feature_range=(0, 1))\n",
    "dataset = scaler.fit_transform(dataset)\n",
    "\n",
    "# normalize dataset by MinMaxScaler\n",
    "from sklearn.preprocessing import MinMaxScaler\n",
    "speed = df['speed'].values.astype(\"float32\").reshape(-1,1)\n",
    "scaler = MinMaxScaler(feature_range = (0, 1))\n",
    "dataset = scaler.fit_transform(df.speed.values)"
   ]
  },
  {
   "cell_type": "code",
   "execution_count": 11,
   "metadata": {},
   "outputs": [
    {
     "name": "stdout",
     "output_type": "stream",
     "text": [
      "Number of entries (training set, test set): (26235, 17491)\n"
     ]
    }
   ],
   "source": [
    "# Split dataset into 60% training and 40% testing\n",
    "# train_ratio = 0.6\n",
    "# train_size = int(len(dataset) * train_ratio)\n",
    "# test_size = len(dataset) - train_size\n",
    "# train, test = dataset[0:train_size, :], dataset[train_size:len(dataset), :]\n",
    "# print(\"Number of entries (training set, test set): \" + str((len(train), len(test))))"
   ]
  },
  {
   "cell_type": "code",
   "execution_count": 132,
   "metadata": {},
   "outputs": [],
   "source": [
    "# normalize dataset by MinMaxScaler\n",
    "from sklearn.preprocessing import MinMaxScaler\n",
    "scaler = MinMaxScaler(feature_range = (0, 1))\n",
    "speed = scaler.fit_transform(df1.speed.values.reshape(-1,1))"
   ]
  },
  {
   "cell_type": "code",
   "execution_count": 138,
   "metadata": {},
   "outputs": [
    {
     "data": {
      "text/html": [
       "<div>\n",
       "<style scoped>\n",
       "    .dataframe tbody tr th:only-of-type {\n",
       "        vertical-align: middle;\n",
       "    }\n",
       "\n",
       "    .dataframe tbody tr th {\n",
       "        vertical-align: top;\n",
       "    }\n",
       "\n",
       "    .dataframe thead th {\n",
       "        text-align: right;\n",
       "    }\n",
       "</style>\n",
       "<table border=\"1\" class=\"dataframe\">\n",
       "  <thead>\n",
       "    <tr style=\"text-align: right;\">\n",
       "      <th></th>\n",
       "      <th>speed</th>\n",
       "    </tr>\n",
       "  </thead>\n",
       "  <tbody>\n",
       "    <tr>\n",
       "      <th>0</th>\n",
       "      <td>0.868631</td>\n",
       "    </tr>\n",
       "    <tr>\n",
       "      <th>1</th>\n",
       "      <td>0.912126</td>\n",
       "    </tr>\n",
       "    <tr>\n",
       "      <th>2</th>\n",
       "      <td>0.906582</td>\n",
       "    </tr>\n",
       "    <tr>\n",
       "      <th>3</th>\n",
       "      <td>0.808327</td>\n",
       "    </tr>\n",
       "    <tr>\n",
       "      <th>4</th>\n",
       "      <td>0.877919</td>\n",
       "    </tr>\n",
       "  </tbody>\n",
       "</table>\n",
       "</div>"
      ],
      "text/plain": [
       "      speed\n",
       "0  0.868631\n",
       "1  0.912126\n",
       "2  0.906582\n",
       "3  0.808327\n",
       "4  0.877919"
      ]
     },
     "execution_count": 138,
     "metadata": {},
     "output_type": "execute_result"
    }
   ],
   "source": [
    "df2 = pd.DataFrame(speed,columns=['speed'])\n",
    "df2.head()"
   ]
  },
  {
   "cell_type": "code",
   "execution_count": 139,
   "metadata": {},
   "outputs": [
    {
     "name": "stdout",
     "output_type": "stream",
     "text": [
      "3571 893\n"
     ]
    }
   ],
   "source": [
    "train_size = int(len(df2) * 0.8)\n",
    "test_size = len(df2) - train_size\n",
    "train, test = df2.iloc[0:train_size], df2.iloc[train_size:len(df2)]\n",
    "print(len(train), len(test))"
   ]
  },
  {
   "cell_type": "code",
   "execution_count": 141,
   "metadata": {},
   "outputs": [
    {
     "data": {
      "text/html": [
       "<div>\n",
       "<style scoped>\n",
       "    .dataframe tbody tr th:only-of-type {\n",
       "        vertical-align: middle;\n",
       "    }\n",
       "\n",
       "    .dataframe tbody tr th {\n",
       "        vertical-align: top;\n",
       "    }\n",
       "\n",
       "    .dataframe thead th {\n",
       "        text-align: right;\n",
       "    }\n",
       "</style>\n",
       "<table border=\"1\" class=\"dataframe\">\n",
       "  <thead>\n",
       "    <tr style=\"text-align: right;\">\n",
       "      <th></th>\n",
       "      <th>speed</th>\n",
       "    </tr>\n",
       "  </thead>\n",
       "  <tbody>\n",
       "    <tr>\n",
       "      <th>0</th>\n",
       "      <td>0.868631</td>\n",
       "    </tr>\n",
       "    <tr>\n",
       "      <th>1</th>\n",
       "      <td>0.912126</td>\n",
       "    </tr>\n",
       "    <tr>\n",
       "      <th>2</th>\n",
       "      <td>0.906582</td>\n",
       "    </tr>\n",
       "    <tr>\n",
       "      <th>3</th>\n",
       "      <td>0.808327</td>\n",
       "    </tr>\n",
       "    <tr>\n",
       "      <th>4</th>\n",
       "      <td>0.877919</td>\n",
       "    </tr>\n",
       "  </tbody>\n",
       "</table>\n",
       "</div>"
      ],
      "text/plain": [
       "      speed\n",
       "0  0.868631\n",
       "1  0.912126\n",
       "2  0.906582\n",
       "3  0.808327\n",
       "4  0.877919"
      ]
     },
     "execution_count": 141,
     "metadata": {},
     "output_type": "execute_result"
    }
   ],
   "source": [
    "train.head()"
   ]
  },
  {
   "cell_type": "code",
   "execution_count": 142,
   "metadata": {},
   "outputs": [],
   "source": [
    "train = pd.DataFrame(train.speed)\n",
    "test = pd.DataFrame(test.speed)"
   ]
  },
  {
   "cell_type": "code",
   "execution_count": 143,
   "metadata": {},
   "outputs": [],
   "source": [
    "def create_dataset(X, y, time_steps=1):\n",
    "    Xs, ys = [], []\n",
    "    for i in range(len(X) - time_steps):\n",
    "        v = X.iloc[i:(i + time_steps)].values\n",
    "        Xs.append(v)\n",
    "        ys.append(y.iloc[i + time_steps])\n",
    "    return np.array(Xs), np.array(ys)"
   ]
  },
  {
   "cell_type": "code",
   "execution_count": 144,
   "metadata": {},
   "outputs": [
    {
     "name": "stdout",
     "output_type": "stream",
     "text": [
      "(3561, 10, 1) (3561,)\n"
     ]
    }
   ],
   "source": [
    "time_steps = 10\n",
    "# reshape to samples, time_steps, n_features\n",
    "X_train, y_train = create_dataset(train, train.speed, time_steps)\n",
    "X_test, y_test = create_dataset(test, test.speed, time_steps)\n",
    "print(X_train.shape, y_train.shape)"
   ]
  },
  {
   "cell_type": "code",
   "execution_count": 152,
   "metadata": {},
   "outputs": [],
   "source": [
    "model = Sequential()\n",
    "model.add(LSTM(units=128,input_shape=(X_train.shape[1], X_train.shape[2])))\n",
    "model.add(Dense(units=1))\n",
    "model.compile(loss='mean_squared_error',optimizer=optimizers.Adam(0.001))"
   ]
  },
  {
   "cell_type": "code",
   "execution_count": 153,
   "metadata": {},
   "outputs": [
    {
     "name": "stdout",
     "output_type": "stream",
     "text": [
      "Epoch 1/30\n",
      "201/201 [==============================] - 5s 24ms/step - loss: 0.0209 - val_loss: 0.0058\n",
      "Epoch 2/30\n",
      "201/201 [==============================] - 4s 17ms/step - loss: 0.0098 - val_loss: 0.0050\n",
      "Epoch 3/30\n",
      "201/201 [==============================] - 3s 17ms/step - loss: 0.0083 - val_loss: 0.0046\n",
      "Epoch 4/30\n",
      "201/201 [==============================] - 4s 17ms/step - loss: 0.0073 - val_loss: 0.0043\n",
      "Epoch 5/30\n",
      "201/201 [==============================] - 4s 18ms/step - loss: 0.0065 - val_loss: 0.0040\n",
      "Epoch 6/30\n",
      "201/201 [==============================] - 4s 18ms/step - loss: 0.0060 - val_loss: 0.0039\n",
      "Epoch 7/30\n",
      "201/201 [==============================] - 3s 17ms/step - loss: 0.0057 - val_loss: 0.0037\n",
      "Epoch 8/30\n",
      "201/201 [==============================] - 4s 18ms/step - loss: 0.0055 - val_loss: 0.0037\n",
      "Epoch 9/30\n",
      "201/201 [==============================] - 3s 17ms/step - loss: 0.0053 - val_loss: 0.0036\n",
      "Epoch 10/30\n",
      "201/201 [==============================] - 3s 17ms/step - loss: 0.0052 - val_loss: 0.0036\n",
      "Epoch 11/30\n",
      "201/201 [==============================] - 3s 17ms/step - loss: 0.0052 - val_loss: 0.0036\n",
      "Epoch 12/30\n",
      "201/201 [==============================] - 3s 17ms/step - loss: 0.0051 - val_loss: 0.0036\n",
      "Epoch 13/30\n",
      "201/201 [==============================] - 3s 17ms/step - loss: 0.0051 - val_loss: 0.0036\n",
      "Epoch 14/30\n",
      "201/201 [==============================] - 3s 17ms/step - loss: 0.0050 - val_loss: 0.0036\n",
      "Epoch 15/30\n",
      "201/201 [==============================] - 3s 17ms/step - loss: 0.0050 - val_loss: 0.0036\n",
      "Epoch 16/30\n",
      "201/201 [==============================] - 3s 17ms/step - loss: 0.0049 - val_loss: 0.0036\n",
      "Epoch 17/30\n",
      "201/201 [==============================] - 3s 17ms/step - loss: 0.0049 - val_loss: 0.0036\n",
      "Epoch 18/30\n",
      "201/201 [==============================] - 3s 17ms/step - loss: 0.0048 - val_loss: 0.0036\n",
      "Epoch 19/30\n",
      "201/201 [==============================] - 3s 17ms/step - loss: 0.0048 - val_loss: 0.0035\n",
      "Epoch 20/30\n",
      "201/201 [==============================] - 3s 17ms/step - loss: 0.0048 - val_loss: 0.0035\n",
      "Epoch 21/30\n",
      "201/201 [==============================] - 3s 17ms/step - loss: 0.0047 - val_loss: 0.0035\n",
      "Epoch 22/30\n",
      "201/201 [==============================] - 4s 18ms/step - loss: 0.0047 - val_loss: 0.0035\n",
      "Epoch 23/30\n",
      "201/201 [==============================] - 4s 18ms/step - loss: 0.0047 - val_loss: 0.0035\n",
      "Epoch 24/30\n",
      "201/201 [==============================] - 3s 17ms/step - loss: 0.0046 - val_loss: 0.0035\n",
      "Epoch 25/30\n",
      "201/201 [==============================] - 3s 15ms/step - loss: 0.0046 - val_loss: 0.0035\n",
      "Epoch 26/30\n",
      "201/201 [==============================] - 4s 20ms/step - loss: 0.0046 - val_loss: 0.0035\n",
      "Epoch 27/30\n",
      "201/201 [==============================] - 3s 13ms/step - loss: 0.0046 - val_loss: 0.0034\n",
      "Epoch 28/30\n",
      "201/201 [==============================] - 4s 18ms/step - loss: 0.0045 - val_loss: 0.0034\n",
      "Epoch 29/30\n",
      "201/201 [==============================] - 4s 18ms/step - loss: 0.0045 - val_loss: 0.0034\n",
      "Epoch 30/30\n",
      "201/201 [==============================] - 3s 17ms/step - loss: 0.0045 - val_loss: 0.0034\n"
     ]
    }
   ],
   "source": [
    "history = model.fit(\n",
    "    X_train, y_train,\n",
    "    epochs=30,\n",
    "    batch_size=16,\n",
    "    validation_split=0.1,\n",
    "    verbose=1,\n",
    "    shuffle=False\n",
    ")"
   ]
  },
  {
   "cell_type": "code",
   "execution_count": 154,
   "metadata": {},
   "outputs": [],
   "source": [
    "# predict X_test\n",
    "y_pred = model.predict(X_test)"
   ]
  },
  {
   "cell_type": "code",
   "execution_count": 168,
   "metadata": {},
   "outputs": [
    {
     "data": {
      "text/plain": [
       "Text(0.5, 1.0, 'test')"
      ]
     },
     "execution_count": 168,
     "metadata": {},
     "output_type": "execute_result"
    },
    {
     "data": {
      "image/png": "[encoded data removed]",
      "text/plain": [
       "<Figure size 432x288 with 2 Axes>"
      ]
     },
     "metadata": {
      "needs_background": "light"
     },
     "output_type": "display_data"
    }
   ],
   "source": [
    "fig, ax = plt.subplots(2, 1)\n",
    "ax[0].plot(df2.speed.iloc[:train_size],'-b')\n",
    "ax[0].set_title('train')\n",
    "ax[1].plot(df2.speed.iloc[train_size:],'-g')\n",
    "ax[1].set_title('test')"
   ]
  },
  {
   "cell_type": "code",
   "execution_count": 169,
   "metadata": {},
   "outputs": [
    {
     "data": {
      "text/plain": [
       "Text(0.5, 1.0, 'predict on the test set')"
      ]
     },
     "execution_count": 169,
     "metadata": {},
     "output_type": "execute_result"
    },
    {
     "data": {
      "image/png": "[encoded data removed]",
      "text/plain": [
       "<Figure size 720x360 with 1 Axes>"
      ]
     },
     "metadata": {
      "needs_background": "light"
     },
     "output_type": "display_data"
    }
   ],
   "source": [
    "# plot the prediction\n",
    "plt.figure(figsize=(10,5))\n",
    "plt.plot(y_pred)\n",
    "plt.plot(y_test,'-g')\n",
    "plt.title('predict on the test set')"
   ]
  }
 ],
 "metadata": {
  "kernelspec": {
   "display_name": "Python 3",
   "language": "python",
   "name": "python3"
  },
  "language_info": {
   "codemirror_mode": {
    "name": "ipython",
    "version": 3
   },
   "file_extension": ".py",
   "mimetype": "text/x-python",
   "name": "python",
   "nbconvert_exporter": "python",
   "pygments_lexer": "ipython3",
   "version": "3.8.5"
  }
 },
 "nbformat": 4,
 "nbformat_minor": 4
}
